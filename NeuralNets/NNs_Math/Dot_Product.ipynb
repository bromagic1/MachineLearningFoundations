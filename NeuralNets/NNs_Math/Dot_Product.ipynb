{
 "cells": [
  {
   "cell_type": "code",
   "execution_count": null,
   "id": "e628d46c",
   "metadata": {},
   "outputs": [],
   "source": [
    "\n",
    "\n"
   ]
  },
  {
   "cell_type": "code",
   "execution_count": 13,
   "id": "fc68bdb5",
   "metadata": {},
   "outputs": [],
   "source": [
    "def dotproduct(a, b):\n",
    "    list_comprehension = [ a[i]*b[i] for i in range(len(a))   ]\n",
    "    ## print(list_comprehension)\n",
    "    list_comprehension = sum(list_comprehension )\n",
    "    return list_comprehension"
   ]
  },
  {
   "cell_type": "code",
   "execution_count": 14,
   "id": "a335ed8e",
   "metadata": {},
   "outputs": [],
   "source": [
    "a = [ 2, 4, 6, 3]\n",
    "b = [ 1, 7, 3, 2]"
   ]
  },
  {
   "cell_type": "code",
   "execution_count": 16,
   "id": "1c435645",
   "metadata": {},
   "outputs": [
    {
     "name": "stdout",
     "output_type": "stream",
     "text": [
      "54\n"
     ]
    }
   ],
   "source": [
    "\n",
    "res = dotproduct(a, b) \n",
    "\n",
    "print(    dotproduct(a, b)    )\n"
   ]
  },
  {
   "cell_type": "code",
   "execution_count": 17,
   "id": "8ea026c2",
   "metadata": {},
   "outputs": [],
   "source": [
    "b = 3"
   ]
  },
  {
   "cell_type": "code",
   "execution_count": 18,
   "id": "137962bf",
   "metadata": {},
   "outputs": [],
   "source": [
    "## y = wx + b"
   ]
  },
  {
   "cell_type": "code",
   "execution_count": 19,
   "id": "53d6f488",
   "metadata": {},
   "outputs": [],
   "source": [
    "y = res + b"
   ]
  },
  {
   "cell_type": "code",
   "execution_count": 20,
   "id": "caf7e08e",
   "metadata": {},
   "outputs": [
    {
     "data": {
      "text/plain": [
       "57"
      ]
     },
     "execution_count": 20,
     "metadata": {},
     "output_type": "execute_result"
    }
   ],
   "source": [
    "y"
   ]
  },
  {
   "cell_type": "code",
   "execution_count": null,
   "id": "f8e9930a",
   "metadata": {},
   "outputs": [],
   "source": []
  }
 ],
 "metadata": {
  "kernelspec": {
   "display_name": "Python 3 (ipykernel)",
   "language": "python",
   "name": "python3"
  },
  "language_info": {
   "codemirror_mode": {
    "name": "ipython",
    "version": 3
   },
   "file_extension": ".py",
   "mimetype": "text/x-python",
   "name": "python",
   "nbconvert_exporter": "python",
   "pygments_lexer": "ipython3",
   "version": "3.7.16"
  }
 },
 "nbformat": 4,
 "nbformat_minor": 5
}
