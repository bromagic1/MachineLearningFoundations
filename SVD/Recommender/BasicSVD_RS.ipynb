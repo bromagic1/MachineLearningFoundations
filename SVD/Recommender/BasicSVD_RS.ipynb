{
 "cells": [
  {
   "cell_type": "code",
   "execution_count": 11,
   "metadata": {},
   "outputs": [
    {
     "name": "stdout",
     "output_type": "stream",
     "text": [
      "   userId  movieId  rating  timestamp\n",
      "0       1        1     4.0  964982703\n",
      "1       1        3     4.0  964981247\n",
      "2       1        6     4.0  964982224\n",
      "3       1       47     5.0  964983815\n",
      "4       1       50     5.0  964982931\n",
      "   movieId                               title  \\\n",
      "0        1                    Toy Story (1995)   \n",
      "1        2                      Jumanji (1995)   \n",
      "2        3             Grumpier Old Men (1995)   \n",
      "3        4            Waiting to Exhale (1995)   \n",
      "4        5  Father of the Bride Part II (1995)   \n",
      "\n",
      "                                        genres  \n",
      "0  Adventure|Animation|Children|Comedy|Fantasy  \n",
      "1                   Adventure|Children|Fantasy  \n",
      "2                               Comedy|Romance  \n",
      "3                         Comedy|Drama|Romance  \n",
      "4                                       Comedy  \n",
      "(9724, 610)\n"
     ]
    }
   ],
   "source": [
    "import numpy as np\n",
    "import pandas as pd\n",
    "\n",
    "\n",
    "#######################################\n",
    "\n",
    "## MovieLens dataset\n",
    "\n",
    "#######################################\n",
    "\n",
    "data = pd.read_csv('data/ratings.csv')\n",
    "\n",
    "users  = data['userId'].unique()\n",
    "movies = data['movieId'].unique()\n",
    "\n",
    "#print( len(users)  )\n",
    "#print(len(movies)  )\n",
    "print(data.head())\n",
    "\n",
    "#######################################\n",
    "\n",
    "data_ratings = pd.read_csv('data/ratings.csv')\n",
    "\n",
    "data_movies  = pd.read_csv('data/movies.csv')\n",
    "\n",
    "print(data_movies.head())\n",
    "\n",
    "######################################\n",
    "\n",
    "ratings_mat = np.zeros(shape=(9724, 610), dtype=np.uint8)\n",
    "\n",
    "print(ratings_mat.shape)\n",
    "\n",
    "#####################################\n",
    "\n",
    "\n",
    "\n"
   ]
  },
  {
   "cell_type": "code",
   "execution_count": 12,
   "metadata": {},
   "outputs": [
    {
     "name": "stdout",
     "output_type": "stream",
     "text": [
      "[[4 0 0 ... 2 3 5]\n",
      " [0 0 0 ... 2 0 0]\n",
      " [4 0 0 ... 2 0 0]\n",
      " ...\n",
      " [0 0 0 ... 0 0 0]\n",
      " [0 0 0 ... 0 0 0]\n",
      " [0 0 0 ... 0 0 0]]\n"
     ]
    }
   ],
   "source": [
    "ratings_array  = data_ratings.rating.values\n",
    "movieIds_array = data_ratings.movieId.values\n",
    "userIds_array  = data_ratings.userId.values\n",
    "\n",
    "################################################\n",
    "\n",
    "movies_uniques_dict_ref_real = {}\n",
    "movies_uniques_dict_real_ref = {}\n",
    "movies_uniques = np.unique(  movieIds_array    )\n",
    "for idx, res in enumerate(movies_uniques):\n",
    "    movies_uniques_dict_ref_real[idx] = res\n",
    "    movies_uniques_dict_real_ref[res] = idx\n",
    "    \n",
    "\n",
    "users_uniques_dict_ref_real = {}\n",
    "users_uniques_dict_real_ref = {}\n",
    "users_uniques = np.unique(  userIds_array    )\n",
    "for idx, res in enumerate(users_uniques):\n",
    "    users_uniques_dict_ref_real[idx] = res\n",
    "    users_uniques_dict_real_ref[res] = idx\n",
    "      \n",
    "\n",
    "## print(  movies_uniques_dict_ref_real  )        \n",
    "\n",
    "################################################\n",
    "\n",
    "for i in range(   len(ratings_array)    ):\n",
    "    u = userIds_array[i]\n",
    "    m = movieIds_array[i]\n",
    "    \n",
    "    ref_u = users_uniques_dict_real_ref[u]\n",
    "    ref_m = movies_uniques_dict_real_ref[m]\n",
    "    \n",
    "    ratings_mat[ref_m, ref_u] = ratings_array[i]\n",
    "\n",
    "################################################\n",
    "\n",
    "\n",
    "print(  ratings_mat  )\n"
   ]
  },
  {
   "cell_type": "code",
   "execution_count": 13,
   "metadata": {},
   "outputs": [
    {
     "name": "stdout",
     "output_type": "stream",
     "text": [
      "(9724, 9724)\n",
      "(610,)\n",
      "(610, 610)\n"
     ]
    }
   ],
   "source": [
    "U, S, V = np.linalg.svd(  ratings_mat  )\n",
    "\n",
    "print(U.shape)\n",
    "print(S.shape)\n",
    "print(V.shape)\n",
    "\n",
    "##print( S[:609]   )"
   ]
  },
  {
   "cell_type": "code",
   "execution_count": 14,
   "metadata": {},
   "outputs": [
    {
     "name": "stdout",
     "output_type": "stream",
     "text": [
      "[ 277  973  906 1644 4522  895 1660 5150  314 3563]\n"
     ]
    }
   ],
   "source": [
    "## goal: to recommend similar movies\n",
    "\n",
    "\n",
    "\n",
    "###################################################\n",
    "\n",
    "## function  to calculate the cosine similarity\n",
    "## it sorts by most similar, and returns the top n\n",
    "\n",
    "\n",
    "def top_cosine_similarity(data, movie_id, top_n):\n",
    "    index = movie_id\n",
    "    \n",
    "    #########################\n",
    "    \n",
    "    movie_row = data[index, : ]    ## 1x50\n",
    "    \n",
    "    ##magnitude = np.sqrt(    np.einsum('ij, ij -> i', data, data)    )\n",
    "    \n",
    "    \n",
    "    similarity = np.dot(     movie_row,       data.T     )   \n",
    "                     \n",
    "    ## returns indeces sorted from smallest to the biggest\n",
    "    sort_indeces = np.argsort(  similarity )\n",
    "                     \n",
    "   \n",
    "                     \n",
    "    return sort_indeces[:top_n]\n",
    "                       \n",
    "                          \n",
    "    #########################\n",
    "    \n",
    "\n",
    "###################################################\n",
    "\n",
    "\n",
    "k = 50          ## 50 principal components\n",
    "movie_id = 3000  ## e.g. the matrix\n",
    "\n",
    "sliced_matrix = U[:, :k]\n",
    "\n",
    "top_indeces = top_cosine_similarity(sliced_matrix, movie_id, top_n=10)\n",
    "print(  top_indeces  )\n",
    "\n"
   ]
  },
  {
   "cell_type": "code",
   "execution_count": 15,
   "metadata": {},
   "outputs": [
    {
     "name": "stdout",
     "output_type": "stream",
     "text": [
      "4020\n",
      "Gift, The (2000)\n",
      "318\n",
      "Shawshank Redemption, The (1994)\n",
      "1275\n",
      "Highlander (1986)\n",
      "1206\n",
      "Clockwork Orange, A (1971)\n",
      "2194\n",
      "Untouchables, The (1987)\n",
      "6711\n",
      "Lost in Translation (2003)\n",
      "1193\n",
      "One Flew Over the Cuckoo's Nest (1975)\n",
      "2231\n",
      "Rounders (1998)\n",
      "8360\n",
      "Shrek 2 (2004)\n",
      "356\n",
      "Forrest Gump (1994)\n",
      "4886\n",
      "Monsters, Inc. (2001)\n"
     ]
    }
   ],
   "source": [
    "real_my_id = movies_uniques_dict_ref_real[movie_id]\n",
    "print(real_my_id)\n",
    "print(    data_movies[data_movies.movieId == real_my_id].title.values[0]    )\n",
    "\n",
    "\n",
    "\n",
    "for ref in top_indeces:\n",
    "    real_movie_id = movies_uniques_dict_ref_real[ref] \n",
    "    print(real_movie_id)\n",
    "    print(   data_movies[data_movies.movieId == real_movie_id].title.values[0]     )"
   ]
  },
  {
   "cell_type": "code",
   "execution_count": null,
   "metadata": {},
   "outputs": [],
   "source": [
    "\n",
    "    \n",
    "    \n",
    "\n",
    "   "
   ]
  },
  {
   "cell_type": "code",
   "execution_count": null,
   "metadata": {},
   "outputs": [],
   "source": []
  }
 ],
 "metadata": {
  "kernelspec": {
   "display_name": "Python 3",
   "language": "python",
   "name": "python3"
  },
  "language_info": {
   "codemirror_mode": {
    "name": "ipython",
    "version": 3
   },
   "file_extension": ".py",
   "mimetype": "text/x-python",
   "name": "python",
   "nbconvert_exporter": "python",
   "pygments_lexer": "ipython3",
   "version": "3.8.3"
  }
 },
 "nbformat": 4,
 "nbformat_minor": 4
}
