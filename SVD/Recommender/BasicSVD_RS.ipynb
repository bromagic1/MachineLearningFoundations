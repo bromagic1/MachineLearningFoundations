{
 "cells": [
  {
   "cell_type": "code",
   "execution_count": 1,
   "metadata": {},
   "outputs": [
    {
     "name": "stdout",
     "output_type": "stream",
     "text": [
      "   userId  movieId  rating  timestamp\n",
      "0       1        1     4.0  964982703\n",
      "1       1        3     4.0  964981247\n",
      "2       1        6     4.0  964982224\n",
      "3       1       47     5.0  964983815\n",
      "4       1       50     5.0  964982931\n",
      "   movieId                               title  \\\n",
      "0        1                    Toy Story (1995)   \n",
      "1        2                      Jumanji (1995)   \n",
      "2        3             Grumpier Old Men (1995)   \n",
      "3        4            Waiting to Exhale (1995)   \n",
      "4        5  Father of the Bride Part II (1995)   \n",
      "\n",
      "                                        genres  \n",
      "0  Adventure|Animation|Children|Comedy|Fantasy  \n",
      "1                   Adventure|Children|Fantasy  \n",
      "2                               Comedy|Romance  \n",
      "3                         Comedy|Drama|Romance  \n",
      "4                                       Comedy  \n",
      "(9724, 610)\n",
      "      movieId                                      title  \\\n",
      "0           1                           Toy Story (1995)   \n",
      "1           2                             Jumanji (1995)   \n",
      "2           3                    Grumpier Old Men (1995)   \n",
      "3           4                   Waiting to Exhale (1995)   \n",
      "4           5         Father of the Bride Part II (1995)   \n",
      "...       ...                                        ...   \n",
      "9737   193581  Black Butler: Book of the Atlantic (2017)   \n",
      "9738   193583               No Game No Life: Zero (2017)   \n",
      "9739   193585                               Flint (2017)   \n",
      "9740   193587        Bungo Stray Dogs: Dead Apple (2018)   \n",
      "9741   193609        Andrew Dice Clay: Dice Rules (1991)   \n",
      "\n",
      "                                           genres  \n",
      "0     Adventure|Animation|Children|Comedy|Fantasy  \n",
      "1                      Adventure|Children|Fantasy  \n",
      "2                                  Comedy|Romance  \n",
      "3                            Comedy|Drama|Romance  \n",
      "4                                          Comedy  \n",
      "...                                           ...  \n",
      "9737              Action|Animation|Comedy|Fantasy  \n",
      "9738                     Animation|Comedy|Fantasy  \n",
      "9739                                        Drama  \n",
      "9740                             Action|Animation  \n",
      "9741                                       Comedy  \n",
      "\n",
      "[9742 rows x 3 columns]\n"
     ]
    }
   ],
   "source": [
    "import numpy as np\n",
    "import pandas as pd\n",
    "from sklearn.metrics.pairwise import cosine_similarity\n",
    "\n",
    "#######################################\n",
    "\n",
    "## MovieLens dataset\n",
    "\n",
    "#######################################\n",
    "\n",
    "data = pd.read_csv('data/ratings.csv')\n",
    "\n",
    "users  = data['userId'].unique()\n",
    "movies = data['movieId'].unique()\n",
    "\n",
    "#print( len(users)  )\n",
    "#print(len(movies)  )\n",
    "print(data.head())\n",
    "\n",
    "#######################################\n",
    "\n",
    "data_ratings = pd.read_csv('data/ratings.csv')\n",
    "\n",
    "data_movies  = pd.read_csv('data/movies.csv')\n",
    "\n",
    "print(data_movies.head())\n",
    "\n",
    "######################################\n",
    "\n",
    "ratings_mat = np.zeros(shape=(9724, 610), dtype=np.uint8)\n",
    "\n",
    "print(ratings_mat.shape)\n",
    "\n",
    "#####################################\n",
    "print(data_movies)\n",
    "\n",
    "\n"
   ]
  },
  {
   "cell_type": "code",
   "execution_count": 2,
   "metadata": {},
   "outputs": [
    {
     "name": "stdout",
     "output_type": "stream",
     "text": [
      "[[4 0 0 0 4 0 4 0 0 0 0 0 0 0 2 0 4 3 4 0]\n",
      " [0 0 0 0 0 4 0 4 0 0 0 0 0 0 0 0 0 3 3 3]\n",
      " [4 0 0 0 0 5 0 0 0 0 0 0 0 0 0 0 0 0 3 0]\n",
      " [0 0 0 0 0 3 0 0 0 0 0 0 0 3 0 0 0 0 0 0]\n",
      " [0 0 0 0 0 5 0 0 0 0 0 0 0 0 0 0 0 0 0 0]\n",
      " [4 0 0 0 0 4 0 0 0 0 5 0 0 0 0 0 0 4 0 0]\n",
      " [0 0 0 0 0 4 0 0 0 0 0 0 0 3 0 0 0 0 2 0]\n",
      " [0 0 0 0 0 3 0 0 0 0 0 0 0 0 0 0 0 0 0 1]\n",
      " [0 0 0 0 0 0 0 0 0 0 0 0 0 0 0 0 0 0 0 0]\n",
      " [0 0 0 0 0 3 0 2 0 0 3 0 0 0 0 0 0 0 2 0]\n",
      " [0 0 0 0 0 4 0 4 0 0 0 0 0 0 0 0 0 0 0 0]\n",
      " [0 0 0 0 0 0 0 0 0 0 0 0 0 0 0 0 0 0 1 0]\n",
      " [0 0 0 0 0 3 0 0 0 0 0 0 0 0 0 0 0 0 3 4]\n",
      " [0 0 0 0 0 0 0 0 0 0 0 0 0 0 0 0 0 0 0 0]\n",
      " [0 0 0 0 0 4 0 0 0 0 0 0 0 0 0 0 0 0 2 0]\n",
      " [0 0 0 0 0 4 0 0 0 0 0 0 0 0 0 0 0 4 0 0]\n",
      " [0 0 0 0 0 4 0 0 0 0 0 0 0 0 0 0 0 0 0 0]\n",
      " [0 0 0 0 0 0 0 0 0 0 0 0 0 0 0 0 0 0 0 0]\n",
      " [0 0 0 0 0 2 0 0 0 0 0 0 0 1 0 0 0 0 2 0]\n",
      " [0 0 0 0 0 0 0 0 0 0 0 0 0 0 0 0 0 0 0 0]]\n",
      "(9724, 610)\n"
     ]
    }
   ],
   "source": [
    "ratings_array  = data_ratings.rating.values\n",
    "movieIds_array = data_ratings.movieId.values\n",
    "userIds_array  = data_ratings.userId.values\n",
    "\n",
    "################################################\n",
    "\n",
    "movies_uniques_dict_ref_real = {}\n",
    "movies_uniques_dict_real_ref = {}\n",
    "movies_uniques = np.unique(  movieIds_array    )\n",
    "for idx, res in enumerate(movies_uniques):\n",
    "    movies_uniques_dict_ref_real[idx] = res\n",
    "    movies_uniques_dict_real_ref[res] = idx\n",
    "    \n",
    "\n",
    "users_uniques_dict_ref_real = {}\n",
    "users_uniques_dict_real_ref = {}\n",
    "users_uniques = np.unique(  userIds_array    )\n",
    "for idx, res in enumerate(users_uniques):\n",
    "    users_uniques_dict_ref_real[idx] = res\n",
    "    users_uniques_dict_real_ref[res] = idx\n",
    "      \n",
    "\n",
    "## print(  movies_uniques_dict_ref_real  )        \n",
    "\n",
    "################################################\n",
    "\n",
    "for i in range(   len(ratings_array)    ):\n",
    "    u = userIds_array[i]\n",
    "    m = movieIds_array[i]\n",
    "    \n",
    "    ref_u = users_uniques_dict_real_ref[u]\n",
    "    ref_m = movies_uniques_dict_real_ref[m]\n",
    "    \n",
    "    ratings_mat[ref_m, ref_u] = ratings_array[i]\n",
    "\n",
    "################################################\n",
    "\n",
    "print(  ratings_mat[:20,:20]  )\n",
    "print(  ratings_mat.shape  )\n"
   ]
  },
  {
   "cell_type": "code",
   "execution_count": 3,
   "metadata": {},
   "outputs": [
    {
     "name": "stdout",
     "output_type": "stream",
     "text": [
      "(9724, 9724)\n",
      "(610,)\n",
      "(610, 610)\n"
     ]
    }
   ],
   "source": [
    "U, S, V = np.linalg.svd(  ratings_mat  )\n",
    "\n",
    "print(U.shape)\n",
    "print(S.shape)\n",
    "print(V.shape)\n",
    "\n",
    "##print( S[:609]   )"
   ]
  },
  {
   "cell_type": "code",
   "execution_count": 4,
   "metadata": {},
   "outputs": [],
   "source": [
    "\n",
    "## function  to calculate the cosine similarity\n",
    "## this is similar to the euclidean distance \n",
    "## it sorts by most similar, and returns the top n\n",
    "\n",
    "\n",
    "def top_cosine_similarity(data, movie_id, k, top_n):\n",
    "    \n",
    "    movie_row = np.array(   data[movie_id, : ]   )    ## 1x50\n",
    "    \n",
    "    \n",
    "    ## np argsort\n",
    "    \n",
    "    similarity = np.dot(     movie_row,       data.T     )  \n",
    "    sort_indeces = np.argsort(similarity)\n",
    "    \n",
    "    ## sklearn\n",
    "    \n",
    "    #movie_row = movie_row.reshape(-1, k)\n",
    "    #similarity = cosine_similarity(movie_row, data)\n",
    "    #sort_indeces = np.argsort(  similarity[0]  ) \n",
    "    #sort_indeces = sort_indeces.tolist()\n",
    "    \n",
    "    \n",
    "    \n",
    "    return sort_indeces[:top_n]\n",
    "                       \n",
    "                          \n"
   ]
  },
  {
   "cell_type": "code",
   "execution_count": null,
   "metadata": {},
   "outputs": [],
   "source": []
  },
  {
   "cell_type": "code",
   "execution_count": null,
   "metadata": {},
   "outputs": [],
   "source": [
    "\n",
    "    \n",
    "    \n",
    "\n",
    "   "
   ]
  },
  {
   "cell_type": "code",
   "execution_count": 5,
   "metadata": {},
   "outputs": [
    {
     "name": "stdout",
     "output_type": "stream",
     "text": [
      "[6293   43  257 6513 1916 2391 5880 3189 4350  613]\n"
     ]
    }
   ],
   "source": [
    "\n",
    "k = 200          ## 50 principal components\n",
    "\n",
    "\n",
    "search_movie_id = 79132\n",
    "ref_movie_id = movies_uniques_dict_real_ref[search_movie_id]\n",
    "\n",
    "sliced_matrix = np.array(  U[:, :k]  )\n",
    "\n",
    "top_indeces = top_cosine_similarity(sliced_matrix, ref_movie_id, k, top_n=10)\n",
    "\n",
    "print(  top_indeces  )"
   ]
  },
  {
   "cell_type": "code",
   "execution_count": 6,
   "metadata": {},
   "outputs": [
    {
     "name": "stdout",
     "output_type": "stream",
     "text": [
      "Inception (2010)\n",
      "now recommended movies \n",
      "48385\n",
      "Borat: Cultural Learnings of America for Make Benefit Glorious Nation of Kazakhstan (2006)\n",
      "47\n",
      "Seven (a.k.a. Se7en) (1995)\n",
      "296\n",
      "Pulp Fiction (1994)\n",
      "54272\n",
      "Simpsons Movie, The (2007)\n",
      "2542\n",
      "Lock, Stock & Two Smoking Barrels (1998)\n",
      "3175\n",
      "Galaxy Quest (1999)\n",
      "33493\n",
      "Star Wars: Episode III - Revenge of the Sith (2005)\n",
      "4306\n",
      "Shrek (2001)\n",
      "6373\n",
      "Bruce Almighty (2003)\n",
      "778\n",
      "Trainspotting (1996)\n"
     ]
    }
   ],
   "source": [
    "##real_my_id = movies_uniques_dict_ref_real[movie_id]\n",
    "## print(real_my_id)\n",
    "\n",
    "\n",
    "print(    data_movies[data_movies.movieId == search_movie_id].title.values[0]    )\n",
    "\n",
    "\n",
    "print(\"now recommended movies \")\n",
    "for ref in top_indeces:\n",
    "    #print(ref)\n",
    "    real_movie_id = movies_uniques_dict_ref_real[ref] \n",
    "    print(real_movie_id)\n",
    "    print(   data_movies[data_movies.movieId == real_movie_id].title.values[0]     )\n",
    "    \n",
    "    "
   ]
  },
  {
   "cell_type": "code",
   "execution_count": null,
   "metadata": {},
   "outputs": [],
   "source": []
  },
  {
   "cell_type": "code",
   "execution_count": null,
   "metadata": {},
   "outputs": [],
   "source": []
  },
  {
   "cell_type": "code",
   "execution_count": null,
   "metadata": {},
   "outputs": [],
   "source": []
  }
 ],
 "metadata": {
  "kernelspec": {
   "display_name": "Python 3",
   "language": "python",
   "name": "python3"
  },
  "language_info": {
   "codemirror_mode": {
    "name": "ipython",
    "version": 3
   },
   "file_extension": ".py",
   "mimetype": "text/x-python",
   "name": "python",
   "nbconvert_exporter": "python",
   "pygments_lexer": "ipython3",
   "version": "3.8.3"
  }
 },
 "nbformat": 4,
 "nbformat_minor": 4
}
